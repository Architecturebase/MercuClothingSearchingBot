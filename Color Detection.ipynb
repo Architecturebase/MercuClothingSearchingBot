{
 "cells": [
  {
   "cell_type": "code",
   "execution_count": 18,
   "id": "30b6e255",
   "metadata": {},
   "outputs": [
    {
     "data": {
      "text/plain": [
       "[array([240.10379903, 240.07439586, 240.05074182]),\n",
       " array([41.1398876 , 39.92637732, 42.37896946]),\n",
       " array([186.08550667, 149.56413001, 117.82093167])]"
      ]
     },
     "execution_count": 18,
     "metadata": {},
     "output_type": "execute_result"
    },
    {
     "data": {
      "image/png": "[encoded data removed]",
      "text/plain": [
       "<Figure size 576x432 with 1 Axes>"
      ]
     },
     "metadata": {},
     "output_type": "display_data"
    }
   ],
   "source": [
    "# Identifying prominent colors from image\n",
    "\n",
    "# Import Libraries\n",
    "from sklearn.metrics import mean_squared_error\n",
    "from sklearn.cluster import KMeans\n",
    "import matplotlib.pyplot as plt\n",
    "%matplotlib inline\n",
    "import numpy as np\n",
    "import cv2\n",
    "from collections import Counter\n",
    "from skimage.color import rgb2lab, deltaE_cie76\n",
    "import os\n",
    "import webcolors\n",
    "# (R,G,B) to hexadecimal converter function\n",
    "def RGB2HEX(color):\n",
    "    hexed = \"#{:02x}{:02x}{:02x}\".format(int(color[0]), int(color[1]), int(color[2]))\n",
    "    return hexed\n",
    "\n",
    "# Image Path utility function\n",
    "def get_image(image_path):\n",
    "    image = cv2.imread(image_path)\n",
    "    image = cv2.cvtColor(image, cv2.COLOR_BGR2RGB)\n",
    "    return image\n",
    "\n",
    "# Function to get prominent colors from image\n",
    "def get_colors(image, number_of_colors, show_chart):\n",
    "    \n",
    "    # Modifies image to usable format  \n",
    "    modified_image = cv2.resize(image, (600, 400), interpolation = cv2.INTER_AREA)\n",
    "    modified_image = modified_image.reshape(modified_image.shape[0]*modified_image.shape[1], 3)\n",
    "\n",
    "    # Clusters color regions  \n",
    "    clf = KMeans(n_clusters = number_of_colors)\n",
    "    labels = clf.fit_predict(modified_image)\n",
    "    \n",
    "    counts = Counter(labels)    \n",
    "    center_colors = clf.cluster_centers_\n",
    "\n",
    "    # We get ordered colors by iterating through the keys\n",
    "    ordered_colors = [center_colors[i] for i in counts.keys()]\n",
    "    hex_colors = [RGB2HEX(ordered_colors[i]) for i in counts.keys()]\n",
    "    rgb_colors = [ordered_colors[i] for i in counts.keys()]\n",
    "\n",
    "    if (show_chart):\n",
    "        plt.figure(figsize = (8, 6))\n",
    "        plt.pie(counts.values(), labels = hex_colors, colors = hex_colors)\n",
    "    \n",
    "    return rgb_colors\n",
    "\n",
    "\n",
    "# Use this function - input image file, no. of colors to extract, plot pie chart\n",
    "get_colors(get_image('tg_img_loaded/losin.jpg'), 3, True)"
   ]
  },
  {
   "cell_type": "code",
   "execution_count": 4,
   "id": "2c4daf5b",
   "metadata": {},
   "outputs": [],
   "source": [
    "colors = get_colors(get_image('tg_img_loaded/losin.jpg'), 3, False)"
   ]
  },
  {
   "cell_type": "code",
   "execution_count": 5,
   "id": "2be4adcc",
   "metadata": {},
   "outputs": [],
   "source": [
    "def hex2name(c):\n",
    "    h_color = '#{:02x}{:02x}{:02x}'.format(int(c[0]), int(c[1]), int(c[2]))\n",
    "    try:\n",
    "        nm = webcolors.hex_to_name(h_color, spec='css3')\n",
    "    except ValueError as v_error:\n",
    "        print(\"{}\".format(v_error))\n",
    "        rms_lst = []\n",
    "        for img_clr, img_hex in webcolors.CSS3_NAMES_TO_HEX.items():\n",
    "            cur_clr = webcolors.hex_to_rgb(img_hex)\n",
    "            rmse = np.sqrt(mean_squared_error(c, cur_clr))\n",
    "            rms_lst.append(rmse)\n",
    "\n",
    "        closest_color = rms_lst.index(min(rms_lst))\n",
    "\n",
    "        nm = list(webcolors.CSS3_NAMES_TO_HEX.items())[closest_color][0]\n",
    "    return nm"
   ]
  },
  {
   "cell_type": "code",
   "execution_count": 6,
   "id": "0df142ec",
   "metadata": {},
   "outputs": [
    {
     "name": "stdout",
     "output_type": "stream",
     "text": [
      "'#29272a' has no defined color name in css3\n"
     ]
    }
   ],
   "source": [
    "color_str = hex2name(colors[1])\n",
    "color_list = color_str.split()\n",
    "color = color_list[-1]"
   ]
  },
  {
   "cell_type": "code",
   "execution_count": 7,
   "id": "45d45fe3",
   "metadata": {},
   "outputs": [
    {
     "name": "stdout",
     "output_type": "stream",
     "text": [
      "'#f0f0f0' has no defined color name in css3\n",
      "'#29272a' has no defined color name in css3\n",
      "'#ba9575' has no defined color name in css3\n"
     ]
    }
   ],
   "source": [
    "colors_img_list = []\n",
    "for i in range(len(colors)):\n",
    "    color_str = hex2name(colors[i])\n",
    "    color_list = color_str.split()\n",
    "    color = color_list[-1]\n",
    "    colors_img_list.append(color)"
   ]
  },
  {
   "cell_type": "code",
   "execution_count": 8,
   "id": "244250b2",
   "metadata": {},
   "outputs": [
    {
     "data": {
      "text/plain": [
       "['whitesmoke', 'darkslategray', 'rosybrown']"
      ]
     },
     "execution_count": 8,
     "metadata": {},
     "output_type": "execute_result"
    }
   ],
   "source": [
    "colors_img_list"
   ]
  },
  {
   "cell_type": "code",
   "execution_count": 13,
   "id": "f6ce3fa6",
   "metadata": {},
   "outputs": [],
   "source": [
    "colors_dict = {'black':'черный', 'silver':'серебристое', 'gray': 'серый', 'white': 'белый',\n",
    "              'maroon': 'бордовый', 'red':'красный', 'purple':'фиолетовое', 'fuchsia':'фуксия',\n",
    "              'green': 'зеленый', 'lime':'салатовый', 'olive': 'оливкового цвета',\n",
    "              'yellow':'желтый', 'navy':'темно-синее', 'blue': 'синее', 'teal':'голубой',\n",
    "              'aqua':'бирюзовый', 'aliceblue': 'белый', 'antiquewhite': 'бежевый', 'aquamarine':'аквамариновый',\n",
    "              'azure':'белый', 'beige':'бежевый', 'bisque':'бежевый', 'blanchedalmond':'бежевый', 'blueviolet':'вельветовый',\n",
    "              'brown': 'коричневый', 'burlywood':'бежевый', 'cadetblue':'морского цвета', 'chartreuse':'салатовый',\n",
    "              'chocolate':'коричневый', 'coral':'кораловый', 'cornflowerblue':'голубой', 'cornsilk':'бежевый',\n",
    "              'crimson':'алый', 'cyan': 'бирюзовый', 'darkblue':'темно-синий', 'darkcyan':'темно-бирюзовый', \n",
    "              'dargoldenrod':'золотой', 'darkgray':'серый', 'darkgreen': 'зеленый', 'darkgrey':'темно серый',\n",
    "              'darkhaki':'цвета хаки', 'darkmagenta':'цвета фукси', 'darkolivegreen':'оливковый', 'darkorange':'оранжевый',\n",
    "              'darkorchid':'фиолетовый', 'darkred':'бордовый', 'darksalmon': 'розовый', 'darkseagreen':'оливковый',\n",
    "              'darkslateblue':'фиолетовый', 'darkslategray':'черный', 'darkslategrey':'черный',\n",
    "              'darkturquosie':'темно-бирюзовый', 'darkviolet':'фиолетовый', 'deeppink':'розовый', 'deepskyblue':'голубой',\n",
    "              'dimgray':'темно серый', 'dimgrey':'темно серый', 'dodgerblue':'голубой', 'firebrick':'кирпичный',\n",
    "              'floralwhite':'белый', 'foresgreen':'зеленый', 'gainsboro':'серый', 'ghostwhite':'белый', 'gold':'золотой',\n",
    "              'greenyellow':'салатовый', 'honeydrew':'белый', 'hotpink': 'розовый', 'indianred':'красный', 'indigo':\n",
    "              'индиго', 'ivory':'белый', 'khaki':'хаки', 'lavender':'лавандовый цвет', 'lavenderblush':'розовый', \n",
    "              'lawngreen':'салатовый', 'lemonchiffon':'желтый', 'lightblue':'голубой', 'lightcoral':'кораловый',\n",
    "              'lightcyan':'голубой', 'lightgoldenrodyellow':'золотой', 'lightgray':'серый', 'lightgreen':'светло зеленый',\n",
    "              'lightgrey':'серый', 'lightpink':'розовый', 'lightsalmon':'оранжевый', 'lightseagreen':'цвета морской волны', \n",
    "              'lightskyblue':'голубой', 'lightslategray':'серый', 'lightslategrey':'серый', 'lightsteelblue':'серый',\n",
    "              'lightyellow':'лимонный', 'limegreen':'зеленый', 'linen':'бежевый', 'magenta':'фукси',\n",
    "              'mediumaquamarine':'бирюзовый', 'mediumblue':'синий', 'mediumorchid':'фиолетовый',\n",
    "              'mediumpurple':'фиолетовый', 'mediumseagreen':'зеленый', 'mediumslateblue':'фиалковый',\n",
    "              'mediumspringgreen':'салатовый', 'mediumturquoise':'бирюзовый', 'mediumvioletred':'фиолетовый',\n",
    "              'midnightblue':'темно синий', 'mintcream':'белый', 'mistyrose':'розовый', 'moccasin':'бежевый',\n",
    "              'navajowhite':'бежевый', 'navy':'темно синий', 'oldace':'белый', 'ilivedrab':'оливковый', \n",
    "              'orange':'оранжевый', 'orangered':'красный', 'orchid':'фиолетовый', 'palegoldenrod':'золотистый',\n",
    "              'palegreen':'бледно зеленый', 'paleturquoise':'голубой','palevioletred':'розовый','papayawhip':\n",
    "              'желтый', 'peachpuff':'персиоквый', 'peru':'коричневый', 'pink':'розовый', 'plum':'сливовый',\n",
    "              'powderblue':'голубой', 'rosybrown':'розовый', 'royalblue':'темно голубой', 'salmon':'розовый',\n",
    "              'sandybrown':'песочный', 'seagreen':'зеленый', 'seashell':'белый', 'sienna':'коричневый',\n",
    "              'skyblue':'голубой', 'slateblue':'темно фиолетовый', 'slategray':'темно серый', 'slategrey':'темно серый',\n",
    "              'snow':'белый', 'springgreen':'салатовый', 'steelblue':'темно голубой', 'tan':'бежевый', 'thistle':'розовый',\n",
    "              'tomato':'красный', 'turquoise':'голубой', 'violet':'вельветовый', 'wheat':'бежевый', 'whitesmoke':'белый', \n",
    "               'yellowgreen':'светло зеленый'}"
   ]
  },
  {
   "cell_type": "code",
   "execution_count": 14,
   "id": "4a869d7a",
   "metadata": {},
   "outputs": [],
   "source": [
    "colors_img_list_ru = []\n",
    "for i in range(len(colors_img_list)):\n",
    "    colo = colors_dict[colors_img_list[i]]\n",
    "    colors_img_list_ru.append(colo)"
   ]
  },
  {
   "cell_type": "code",
   "execution_count": 15,
   "id": "62c094cb",
   "metadata": {},
   "outputs": [
    {
     "data": {
      "text/plain": [
       "['белый', 'черный', 'розовый']"
      ]
     },
     "execution_count": 15,
     "metadata": {},
     "output_type": "execute_result"
    }
   ],
   "source": [
    "colors_img_list_ru"
   ]
  },
  {
   "cell_type": "code",
   "execution_count": 54,
   "id": "59aa1737",
   "metadata": {},
   "outputs": [],
   "source": [
    "from googletrans import Translator\n",
    "translator = Translator()\n",
    "russian_colors_list = []\n",
    "for i in range(len(colors_img_list)):\n",
    "    russian_color = translator.translate(colors_img_list[i], dest = 'ru')\n",
    "    russian_colors_list.append(russian_color.text)\n"
   ]
  },
  {
   "cell_type": "code",
   "execution_count": 55,
   "id": "35cf1983",
   "metadata": {
    "scrolled": true
   },
   "outputs": [
    {
     "data": {
      "text/plain": [
       "['розовый', 'чернить', 'белый дым']"
      ]
     },
     "execution_count": 55,
     "metadata": {},
     "output_type": "execute_result"
    }
   ],
   "source": [
    "russian_colors_list"
   ]
  },
  {
   "cell_type": "code",
   "execution_count": 56,
   "id": "51b92a89",
   "metadata": {},
   "outputs": [],
   "source": [
    "colors_dict = {'black':'черный', 'silver':'серебристое', 'gray': 'серый', 'white': 'белый',\n",
    "              'maroon': 'бордовый', 'red':'красный', 'purple':'фиолетовое', 'fuchsia':'фуксия',\n",
    "              'green': 'зеленый', 'lime':'салатовый', 'olive': 'оливкового цвета',\n",
    "              'yellow':'желтый', 'navy':'темно-синее', 'blue': 'синее', 'teal':'голубой',\n",
    "              'aqua':'бирюзовый', 'aliceblue': 'белый', 'antiquewhite': 'бежевый', 'aquamarine':'аквамариновый',\n",
    "              'azure':'белый', 'beige':'бежевый', 'bisque':'бежевый', 'blanchedalmond':'бежевый', 'blueviolet':'вельветовый',\n",
    "              'brown': 'коричневый', 'burlywood':'бежевый', 'cadetblue':'морского цвета', 'chartreuse':'салатовый',\n",
    "              'chocolate':'коричневый', 'coral':'кораловый', 'cornflowerblue':'голубой', 'cornsilk':'бежевый',\n",
    "              'crimson':'алый', 'cyan': 'бирюзовый', 'darkblue':'темно-синий', 'darkcyan':'темно-бирюзовый', \n",
    "              'dargoldenrod':'золотой', 'darkgray':'серый', 'darkgreen': 'зеленый', 'darkgrey':'темно серый',\n",
    "              'darkhaki':'цвета хаки', 'darkmagenta':'цвета фукси', 'darkolivegreen':'оливковый', 'darkorange':'оранжевый',\n",
    "              'darkorchid':'фиолетовый', 'darkred':'бордовый', 'darksalmon': 'розовый', 'darkseagreen':'оливковый',\n",
    "              'darkslateblue':'фиолетовый', 'darkslategray':'тёмно-аспидный серый', 'darkslategrey':'тёмно-аспидный серый',\n",
    "              'darkturquosie':'темно-бирюзовый', 'darkviolet':'фиолетовый', 'deeppink':'розовый', 'deepskyblue':'голубой',\n",
    "              'dimgray':'темно серый', 'dimgrey':'темно серый', 'dodgerblue':'голубой', 'firebrick':'кирпичный',\n",
    "              'floralwhite':'белый', 'foresgreen':'зеленый', 'gainsboro':'серый', 'ghostwhite':'белый', 'gold':'золотой',\n",
    "              'greenyellow':'салатовый', 'honeydrew':'белый', 'hotpink': 'розовый', 'indianred':'красный', 'indigo':\n",
    "              'индиго', 'ivory':'белый', 'khaki':'хаки', 'lavender':'лавандовый цвет', 'lavenderblush':'розовый', \n",
    "              'lawngreen':'салатовый', 'lemonchiffon':'желтый', 'lightblue':'голубой', 'lightcoral':'кораловый',\n",
    "              'lightcyan':'голубой', 'lightgoldenrodyellow':'золотой', 'lightgray':'серый', 'lightgreen':'светло зеленый',\n",
    "              'lightgrey':'серый', 'lightpink':'розовый', 'lightsalmon':'оранжевый', 'lightseagreen':'цвета морской волны', \n",
    "              'lightskyblue':'голубой', 'lightslategray':'серый', 'lightslategrey':'серый', 'lightsteelblue':'серый',\n",
    "              'lightyellow':'лимонный', 'limegreen':'зеленый', 'linen':'бежевый', 'magenta':'фукси',\n",
    "              'mediumaquamarine':'бирюзовый', 'mediumblue':'синий', 'mediumorchid':'фиолетовый',\n",
    "              'mediumpurple':'фиолетовый', 'mediumseagreen':'зеленый', 'mediumslateblue':'фиалковый',\n",
    "              'mediumspringgreen':'салатовый', 'mediumturquoise':'бирюзовый', 'mediumvioletred':'фиолетовый',\n",
    "              'midnightblue':'темно синий', 'mintcream':'белый', 'mistyrose':'розовый', 'moccasin':'бежевый',\n",
    "              'navajowhite':'бежевый', 'navy':'темно синий', 'oldace':'белый', 'ilivedrab':'оливковый', \n",
    "              'orange':'оранжевый', 'orangered':'красный', 'orchid':'фиолетовый', 'palegoldenrod':'золотистый',\n",
    "              'palegreen':'бледно зеленый', 'paleturquoise':'голубой','palevioletred':'розовый','papayawhip':\n",
    "              'желтый', 'peachpuff':'персиоквый', 'peru':'коричневый', 'pink':'розовый', 'plum':'сливовый',\n",
    "              'powderblue':'голубой', 'rosybrown':'розовый', 'royalblue':'темно голубой', 'salmon':'розовый',\n",
    "              'sandybrown':'песочный', 'seagreen':'зеленый', 'seashell':'белый', 'sienna':'коричневый',\n",
    "              'skyblue':'голубой', 'slateblue':'темно фиолетовый', 'slategray':'темно серый', 'slategrey':'темно серый',\n",
    "              'snow':'белый', 'springgreen':'салатовый', 'steelblue':'темно голубой', 'tan':'бежевый', 'thistle':'розовый',\n",
    "              'tomato':'красный', 'turquoise':'голубой', 'violet':'вельветовый', 'wheat':'бежевый', 'yellowgreen':'светло зеленый' }"
   ]
  },
  {
   "cell_type": "code",
   "execution_count": null,
   "id": "001527ab",
   "metadata": {},
   "outputs": [],
   "source": []
  },
  {
   "cell_type": "code",
   "execution_count": null,
   "id": "d3dd4945",
   "metadata": {},
   "outputs": [],
   "source": []
  },
  {
   "cell_type": "code",
   "execution_count": null,
   "id": "3d9019c4",
   "metadata": {},
   "outputs": [],
   "source": []
  },
  {
   "cell_type": "code",
   "execution_count": null,
   "id": "13547f33",
   "metadata": {},
   "outputs": [],
   "source": []
  },
  {
   "cell_type": "code",
   "execution_count": null,
   "id": "19ec78d3",
   "metadata": {},
   "outputs": [],
   "source": []
  },
  {
   "cell_type": "code",
   "execution_count": null,
   "id": "527f2575",
   "metadata": {},
   "outputs": [],
   "source": []
  }
 ],
 "metadata": {
  "kernelspec": {
   "display_name": "Python 3 (ipykernel)",
   "language": "python",
   "name": "python3"
  },
  "language_info": {
   "codemirror_mode": {
    "name": "ipython",
    "version": 3
   },
   "file_extension": ".py",
   "mimetype": "text/x-python",
   "name": "python",
   "nbconvert_exporter": "python",
   "pygments_lexer": "ipython3",
   "version": "3.9.7"
  }
 },
 "nbformat": 4,
 "nbformat_minor": 5
}
