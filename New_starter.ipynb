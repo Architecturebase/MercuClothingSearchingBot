{
 "cells": [
  {
   "cell_type": "code",
   "execution_count": null,
   "id": "e29f454e",
   "metadata": {},
   "outputs": [
    {
     "name": "stdout",
     "output_type": "stream",
     "text": [
      "Model loaded successfully from yolo/weights/yolov3-df2_15000.weights.\n",
      "img path: test11.jpg\n",
      "\t+ Label: long sleeve outwear, Conf: 0.83315\n"
     ]
    }
   ],
   "source": [
    "%run -i new_image_demo"
   ]
  },
  {
   "cell_type": "code",
   "execution_count": null,
   "id": "d5fc8010",
   "metadata": {},
   "outputs": [],
   "source": []
  }
 ],
 "metadata": {
  "kernelspec": {
   "display_name": "Python 3 (ipykernel)",
   "language": "python",
   "name": "python3"
  },
  "language_info": {
   "codemirror_mode": {
    "name": "ipython",
    "version": 3
   },
   "file_extension": ".py",
   "mimetype": "text/x-python",
   "name": "python",
   "nbconvert_exporter": "python",
   "pygments_lexer": "ipython3",
   "version": "3.9.7"
  }
 },
 "nbformat": 4,
 "nbformat_minor": 5
}
