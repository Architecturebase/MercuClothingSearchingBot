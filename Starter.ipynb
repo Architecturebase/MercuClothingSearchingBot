{
 "cells": [
  {
   "cell_type": "code",
   "execution_count": 90,
   "id": "3d92bdcd",
   "metadata": {},
   "outputs": [
    {
     "name": "stdout",
     "output_type": "stream",
     "text": [
      "Model loaded successfully from yolo/weights/yolov3-df2_15000.weights.\n",
      "\t+ Label: vest, Conf: 0.51171\n",
      "\t+ Label: trousers, Conf: 0.98203\n"
     ]
    }
   ],
   "source": [
    "%run -i new_image_demo"
   ]
  },
  {
   "cell_type": "code",
   "execution_count": 223,
   "id": "a359b186",
   "metadata": {},
   "outputs": [
    {
     "ename": "ValueError",
     "evalue": "invalid literal for int() with base 10: '#'",
     "output_type": "error",
     "traceback": [
      "\u001B[1;31m---------------------------------------------------------------------------\u001B[0m",
      "\u001B[1;31mValueError\u001B[0m                                Traceback (most recent call last)",
      "\u001B[1;32m~\\Clothes Recognition\\Clothing-Detection\\Color_Detection.py\u001B[0m in \u001B[0;36m<module>\u001B[1;34m\u001B[0m\n\u001B[0;32m     89\u001B[0m \u001B[1;33m\u001B[0m\u001B[0m\n\u001B[0;32m     90\u001B[0m \u001B[1;33m\u001B[0m\u001B[0m\n\u001B[1;32m---> 91\u001B[1;33m \u001B[0mcolor_str\u001B[0m \u001B[1;33m=\u001B[0m \u001B[0mhex2name\u001B[0m\u001B[1;33m(\u001B[0m\u001B[0mcolors\u001B[0m\u001B[1;33m[\u001B[0m\u001B[1;36m1\u001B[0m\u001B[1;33m]\u001B[0m\u001B[1;33m)\u001B[0m\u001B[1;33m\u001B[0m\u001B[1;33m\u001B[0m\u001B[0m\n\u001B[0m\u001B[0;32m     92\u001B[0m \u001B[0mcolor_list\u001B[0m \u001B[1;33m=\u001B[0m \u001B[0mcolor_str\u001B[0m\u001B[1;33m.\u001B[0m\u001B[0msplit\u001B[0m\u001B[1;33m(\u001B[0m\u001B[1;33m)\u001B[0m\u001B[1;33m\u001B[0m\u001B[1;33m\u001B[0m\u001B[0m\n\u001B[0;32m     93\u001B[0m \u001B[0mcolor\u001B[0m \u001B[1;33m=\u001B[0m \u001B[0mcolor_list\u001B[0m\u001B[1;33m[\u001B[0m\u001B[1;33m-\u001B[0m\u001B[1;36m1\u001B[0m\u001B[1;33m]\u001B[0m\u001B[1;33m\u001B[0m\u001B[1;33m\u001B[0m\u001B[0m\n",
      "\u001B[1;32m~\\Clothes Recognition\\Clothing-Detection\\Color_Detection.py\u001B[0m in \u001B[0;36mhex2name\u001B[1;34m(c)\u001B[0m\n\u001B[0;32m     69\u001B[0m \u001B[1;33m\u001B[0m\u001B[0m\n\u001B[0;32m     70\u001B[0m \u001B[1;32mdef\u001B[0m \u001B[0mhex2name\u001B[0m\u001B[1;33m(\u001B[0m\u001B[0mc\u001B[0m\u001B[1;33m)\u001B[0m\u001B[1;33m:\u001B[0m\u001B[1;33m\u001B[0m\u001B[1;33m\u001B[0m\u001B[0m\n\u001B[1;32m---> 71\u001B[1;33m     \u001B[0mh_color\u001B[0m \u001B[1;33m=\u001B[0m \u001B[1;34m'#{:02x}{:02x}{:02x}'\u001B[0m\u001B[1;33m.\u001B[0m\u001B[0mformat\u001B[0m\u001B[1;33m(\u001B[0m\u001B[0mint\u001B[0m\u001B[1;33m(\u001B[0m\u001B[0mc\u001B[0m\u001B[1;33m[\u001B[0m\u001B[1;36m0\u001B[0m\u001B[1;33m]\u001B[0m\u001B[1;33m)\u001B[0m\u001B[1;33m,\u001B[0m \u001B[0mint\u001B[0m\u001B[1;33m(\u001B[0m\u001B[0mc\u001B[0m\u001B[1;33m[\u001B[0m\u001B[1;36m1\u001B[0m\u001B[1;33m]\u001B[0m\u001B[1;33m)\u001B[0m\u001B[1;33m,\u001B[0m \u001B[0mint\u001B[0m\u001B[1;33m(\u001B[0m\u001B[0mc\u001B[0m\u001B[1;33m[\u001B[0m\u001B[1;36m2\u001B[0m\u001B[1;33m]\u001B[0m\u001B[1;33m)\u001B[0m\u001B[1;33m)\u001B[0m\u001B[1;33m\u001B[0m\u001B[1;33m\u001B[0m\u001B[0m\n\u001B[0m\u001B[0;32m     72\u001B[0m     \u001B[1;32mtry\u001B[0m\u001B[1;33m:\u001B[0m\u001B[1;33m\u001B[0m\u001B[1;33m\u001B[0m\u001B[0m\n\u001B[0;32m     73\u001B[0m         \u001B[0mnm\u001B[0m \u001B[1;33m=\u001B[0m \u001B[0mwebcolors\u001B[0m\u001B[1;33m.\u001B[0m\u001B[0mhex_to_name\u001B[0m\u001B[1;33m(\u001B[0m\u001B[0mh_color\u001B[0m\u001B[1;33m,\u001B[0m \u001B[0mspec\u001B[0m\u001B[1;33m=\u001B[0m\u001B[1;34m'css3'\u001B[0m\u001B[1;33m)\u001B[0m\u001B[1;33m\u001B[0m\u001B[1;33m\u001B[0m\u001B[0m\n",
      "\u001B[1;31mValueError\u001B[0m: invalid literal for int() with base 10: '#'"
     ]
    },
    {
     "data": {
      "image/png": "[encoded data removed]",
      "text/plain": [
       "<Figure size 576x432 with 1 Axes>"
      ]
     },
     "metadata": {},
     "output_type": "display_data"
    }
   ],
   "source": [
    "%run -i Color_Detection"
   ]
  },
  {
   "cell_type": "code",
   "execution_count": 95,
   "id": "1e7fe9b3",
   "metadata": {},
   "outputs": [
    {
     "data": {
      "text/plain": [
       "[[471.5846252441406,\n",
       "  2.7929234504699707,\n",
       "  858.697021484375,\n",
       "  143.0573272705078,\n",
       "  0.511711835861206,\n",
       "  4.0],\n",
       " [422.9662780761719,\n",
       "  139.64764404296875,\n",
       "  963.8121948242188,\n",
       "  1391.940673828125,\n",
       "  0.9820325970649719,\n",
       "  7.0]]"
      ]
     },
     "execution_count": 95,
     "metadata": {},
     "output_type": "execute_result"
    }
   ],
   "source": [
    "detections"
   ]
  },
  {
   "cell_type": "code",
   "execution_count": 96,
   "id": "40eb3c65",
   "metadata": {},
   "outputs": [
    {
     "data": {
      "text/plain": [
       "['vest', 'trousers']"
      ]
     },
     "execution_count": 96,
     "metadata": {},
     "output_type": "execute_result"
    }
   ],
   "source": [
    "cloth_type"
   ]
  },
  {
   "cell_type": "code",
   "execution_count": 97,
   "id": "838633a0",
   "metadata": {},
   "outputs": [
    {
     "data": {
      "text/plain": [
       "['белый', 'черный', 'розовый']"
      ]
     },
     "execution_count": 97,
     "metadata": {},
     "output_type": "execute_result"
    }
   ],
   "source": [
    "colors_img_list_ru"
   ]
  },
  {
   "cell_type": "code",
   "execution_count": 104,
   "id": "13b16d35",
   "metadata": {},
   "outputs": [],
   "source": [
    "true_colors = [colors_img_list_ru[1], colors_img_list_ru[2]]"
   ]
  },
  {
   "cell_type": "code",
   "execution_count": 98,
   "id": "d2c4ebce",
   "metadata": {},
   "outputs": [],
   "source": [
    "#types of clothes\n",
    "short_sleeve_top_male = ['мужская футболка', 'мужская рубашка с коротким рукавом', 'мужское поло']\n",
    "short_sleeve_top_female = ['женская сорочка', 'женская футболка', 'женская рубашка с коротким рукавом', 'женское поло']\n",
    "\n",
    "long_sleeve_top_male = ['мужская рубашка', 'мужская сорочка', 'мужская ветровка', 'мужское худи',\n",
    "                       'мужской свитер','мужской кардиган']\n",
    "long_sleeve_top_female = ['женская блузка', 'женская рубашка', 'женское худи', 'женская кофта',\n",
    "                         'женский свитер', 'женский кардиган']\n",
    "short_sleeve_outwear_female = ['женская жилетка', 'женская куртка с коротким рукавом']\n",
    "short_sleeve_outwear_male = ['мужская жилетка', 'мужская куртка с коротким рукавом']\n",
    "\n",
    "long_sleeve_outwear_male = ['мужская куртка', 'мужской пуховик', 'мужская ветровка', 'мужское пальто']\n",
    "long_sleeve_outwear_female = ['женская куртка', 'женский пуховик', 'женская ветровка', 'женское пальто']\n",
    "\n",
    "vest_male = ['мужская майка']\n",
    "vest_female = ['женская майка']\n",
    "\n",
    "sling_male = ['мужская майка']\n",
    "sling_female = ['женская майка']\n",
    "\n",
    "shorts_male = ['мужские шорты', 'мужские шорты спортивные', 'мужские шорты джинсовые', 'мужские шорты для купания']\n",
    "shorts_female = ['женские шорты', 'женские шорты джинсовые', 'женские шорты спортивные']\n",
    "\n",
    "trousers_male = ['мужские брюки', 'мужские штаны', 'мужские джинсы', 'мужские брюки карго', 'мужские брюки спортивные', 'мужские брюки чинос']\n",
    "trousers_female = ['женские брюки', 'женские штаны', 'женские джинсы', 'женские брюки спортивные', 'женские лосины']\n",
    "\n",
    "short_sleeve_dress = ['платье с коротким рукавом']\n",
    "long_sleeve_dress = ['платье с длинным рукавом']\n",
    "\n",
    "vest_dress = ['платье без рукавов']\n",
    "sling_dress = ['платье без плечей']\n",
    "# {'long sleeve top':}"
   ]
  },
  {
   "cell_type": "code",
   "execution_count": 144,
   "id": "3c004bc8",
   "metadata": {},
   "outputs": [],
   "source": [
    "\n",
    "wb_trousers_female = []\n",
    "for i in range(len(trousers_female)):\n",
    "    obj = trousers_female[i].replace(' ', '+')\n",
    "    wb_trousers_female.append(obj)\n",
    "    "
   ]
  },
  {
   "cell_type": "code",
   "execution_count": 148,
   "id": "620f7b0c",
   "metadata": {},
   "outputs": [],
   "source": [
    "wb_short_sleeve_top_male = ['мужская+футболка', 'мужская+рубашка+с+коротким+рукавом', 'мужское+поло']\n",
    "wb_short_sleeve_top_female = ['женская+сорочка', 'женская+футболка', 'женская+рубашка+с+коротким+рукавом',\n",
    " 'женское+поло']\n",
    "\n",
    "wb_long_sleeve_top_male = ['мужская+рубашка', 'мужская+сорочка', 'мужская+ветровка', 'мужское+худи', 'мужской+свитер',\n",
    " 'мужской+кардиган']\n",
    "wb_long_sleeve_top_female = ['женская+блузка','женская+рубашка','женское+худи','женская+кофта','женский+свитер',\n",
    "                             'женский+кардиган']\n",
    "wb_short_sleeve_outwear_female = ['женская+жилетка', 'женская+куртка+с+коротким+рукавом']\n",
    "wb_short_sleeve_outwear_male = ['мужская+жилетка', 'мужская+куртка+с+коротким+рукавом']\n",
    "\n",
    "wb_long_sleeve_outwear_female = ['женская+куртка', 'женский+пуховик', 'женская+ветровка', 'женское+пальто']\n",
    "wb_long_sleeve_outwear_male = ['мужская+куртка', 'мужской+пуховик', 'мужская+ветровка', 'мужское+пальто']\n",
    "\n",
    "wb_vest_male = ['мужская+майка']\n",
    "wb_vest_female = ['женская+майка']\n",
    "\n",
    "wb_sling_male = ['мужская+майка']\n",
    "wb_sling_female = ['женская+майка']\n",
    "\n",
    "wb_shorts_male = ['мужские+шорты', 'мужские+шорты+спортивные', 'мужские+шорты+джинсовые', 'мужские+шорты+для+купания']\n",
    "wb_shorts_female = ['женские+шорты', 'женские+шорты+джинсовые', 'женские+шорты+спортивные']\n",
    "\n",
    "wb_trousers_male = ['мужские+брюки', 'мужские+штаны', 'мужские+джинсы', 'мужские+брюки+карго', 'мужские+брюки+спортивные',\n",
    " 'мужские+брюки+чинос']\n",
    "wb_trousers_female = ['женские+брюки', 'женские+штаны', 'женские+джинсы', 'женские+брюки+спортивные', 'женские+лосины']\n",
    "\n",
    "wb_short_sleeve_dress = ['платье+с+коротким рукавом']\n",
    "wb_long_sleeve_dress = ['платье+с+длинным рукавом']\n",
    "\n",
    "wb_vest_dress = ['платье+без+рукавов']\n",
    "wb_sling_dress = ['платье+без+плечей']"
   ]
  },
  {
   "cell_type": "code",
   "execution_count": 145,
   "id": "8f7d9ba2",
   "metadata": {},
   "outputs": [
    {
     "data": {
      "text/plain": [
       "['женские+брюки',\n",
       " 'женские+штаны',\n",
       " 'женские+джинсы',\n",
       " 'женские+брюки+спортивные',\n",
       " 'женские+лосины']"
      ]
     },
     "execution_count": 145,
     "metadata": {},
     "output_type": "execute_result"
    }
   ],
   "source": [
    "wb_trousers_female"
   ]
  },
  {
   "cell_type": "code",
   "execution_count": 99,
   "id": "34525c1c",
   "metadata": {},
   "outputs": [],
   "source": [
    "male_clothes = [short_sleeve_top_male, long_sleeve_top_male, short_sleeve_outwear_male, long_sleeve_outwear_male,\n",
    "               vest_male, sling_male, shorts_male, trousers_male]\n",
    "male = {'мужская':male_clothes}"
   ]
  },
  {
   "cell_type": "code",
   "execution_count": 100,
   "id": "099e97bb",
   "metadata": {},
   "outputs": [],
   "source": [
    "female_clothes = [short_sleeve_top_female, long_sleeve_outwear_female, short_sleeve_outwear_female, vest_female, sling_female,\n",
    "                 shorts_female, trousers_female, short_sleeve_dress, long_sleeve_dress, vest_dress, sling_dress]\n",
    "female = {'женская':female_clothes}"
   ]
  },
  {
   "cell_type": "code",
   "execution_count": 154,
   "id": "f0e58387",
   "metadata": {},
   "outputs": [
    {
     "name": "stdout",
     "output_type": "stream",
     "text": [
      "женская\n"
     ]
    }
   ],
   "source": [
    "wb_cloth_type_male = {'short sleeve top': wb_short_sleeve_top_male, 'long sleeve top': wb_long_sleeve_top_male, 'short sleeve outwear':\n",
    "                  wb_short_sleeve_outwear_male, 'long sleeve outwear': wb_long_sleeve_outwear_male, 'vest' : wb_vest_male, 'sling':\n",
    "                  wb_sling_male, 'shorts' : wb_shorts_male, 'trousers': wb_trousers_male}\n",
    "wb_cloth_type_female = {'short sleeve top': wb_short_sleeve_top_female, 'long sleeve top': wb_long_sleeve_top_female, 'short sleeve outwear':\n",
    "                    wb_short_sleeve_outwear_female, 'long sleeve outwear': wb_long_sleeve_outwear_female, 'vest': wb_vest_female, \n",
    "                    'sling':wb_sling_female, 'shorts': wb_shorts_female, 'trousers': wb_trousers_female, 'short sleeve dress': wb_short_sleeve_dress,\n",
    "                    'long sleeve dress': wb_long_sleeve_dress, 'vest dress': wb_vest_dress, 'sling dress': wb_sling_dress}\n",
    "gender = input()\n",
    "cloth_type_id = []\n",
    "search_for_list = []\n",
    "if gender == 'мужская':\n",
    "    for i in range(len(cloth_type)):\n",
    "        cloth_type_id.append(i)\n",
    "        search_for = wb_cloth_type_male[cloth_type[i]]\n",
    "        search_for_list.append(search_for)\n",
    "        #дальше тут должен быть парсер\n",
    "elif gender == 'женская':\n",
    "    for i in range(len(cloth_type)):\n",
    "        cloth_type_id.append(i)\n",
    "        search_for = wb_cloth_type_female[cloth_type[i]]\n",
    "        search_for_list.append(search_for)\n",
    "        #дальше тут должен быть парсер"
   ]
  },
  {
   "cell_type": "code",
   "execution_count": 150,
   "id": "0e0c1521",
   "metadata": {},
   "outputs": [
    {
     "name": "stdout",
     "output_type": "stream",
     "text": [
      "женская\n"
     ]
    }
   ],
   "source": [
    "#фотография загружена\n",
    "#выберите одежда какого пола вас интересует\n",
    "cloth_type_male = {'short sleeve top': short_sleeve_top_male, 'long sleeve top': long_sleeve_top_male, 'short sleeve outwear':\n",
    "                  short_sleeve_outwear_male, 'long sleeve outwear': long_sleeve_outwear_male, 'vest' : vest_male, 'sling':\n",
    "                  sling_male, 'shorts' : shorts_male, 'trousers': trousers_male}\n",
    "cloth_type_female = {'short sleeve top':short_sleeve_top_female, 'long sleeve top':long_sleeve_top_female, 'short sleeve outwear':\n",
    "                    short_sleeve_outwear_female, 'long sleeve outwear':long_sleeve_outwear_female, 'vest':vest_female, \n",
    "                    'sling':sling_female, 'shorts':shorts_female, 'trousers':trousers_female, 'short sleeve dress': short_sleeve_dress,\n",
    "                    'long sleeve dress': long_sleeve_dress, 'vest dress':vest_dress, 'sling dress':sling_dress}\n",
    "gender = input()\n",
    "cloth_type_id = []\n",
    "search_for_list = []\n",
    "if gender == 'мужская':\n",
    "    for i in range(len(cloth_type)):\n",
    "        cloth_type_id.append(i)\n",
    "        search_for = cloth_type_male[cloth_type[i]]\n",
    "        search_for_list.append(search_for)\n",
    "        #дальше тут должен быть парсер\n",
    "elif gender == 'женская':\n",
    "    for i in range(len(cloth_type)):\n",
    "        cloth_type_id.append(i)\n",
    "        search_for = cloth_type_female[cloth_type[i]]\n",
    "        search_for_list.append(search_for)\n",
    "        #дальше тут должен быть парсер\n"
   ]
  },
  {
   "cell_type": "code",
   "execution_count": 155,
   "id": "79b1cc4d",
   "metadata": {},
   "outputs": [
    {
     "data": {
      "text/plain": [
       "[['женская+майка'],\n",
       " ['женские+брюки',\n",
       "  'женские+штаны',\n",
       "  'женские+джинсы',\n",
       "  'женские+брюки+спортивные',\n",
       "  'женские+лосины']]"
      ]
     },
     "execution_count": 155,
     "metadata": {},
     "output_type": "execute_result"
    }
   ],
   "source": [
    "search_for_list"
   ]
  },
  {
   "cell_type": "code",
   "execution_count": 107,
   "id": "199a823e",
   "metadata": {},
   "outputs": [
    {
     "data": {
      "text/plain": [
       "[0, 1]"
      ]
     },
     "execution_count": 107,
     "metadata": {},
     "output_type": "execute_result"
    }
   ],
   "source": [
    "cloth_type_id"
   ]
  },
  {
   "cell_type": "code",
   "execution_count": 156,
   "id": "64b69b79",
   "metadata": {},
   "outputs": [
    {
     "data": {
      "text/plain": [
       "5"
      ]
     },
     "execution_count": 156,
     "metadata": {},
     "output_type": "execute_result"
    }
   ],
   "source": [
    "len(search_for_list[1])"
   ]
  },
  {
   "cell_type": "code",
   "execution_count": 171,
   "id": "97a8774f",
   "metadata": {},
   "outputs": [],
   "source": [
    "# parser for wildberries\n",
    "links = []\n",
    "for i in range(len(cloth_type_id)):\n",
    "    cloth_id = cloth_type_id[i]\n",
    "    \n",
    "    search_query = search_for_list[cloth_id]\n",
    "    for j in range(len(true_colors)):\n",
    "        color_query = true_colors[j]\n",
    "        for k in range(len(search_for_list[cloth_id])):\n",
    "            q_id = search_for_list[cloth_id]\n",
    "            query = f'https://www.wildberries.ru/catalog/0/search.aspx?search={color_query}+{q_id[k]}'\n",
    "            links.append(query)"
   ]
  },
  {
   "cell_type": "code",
   "execution_count": 172,
   "id": "5c00e890",
   "metadata": {},
   "outputs": [
    {
     "data": {
      "text/plain": [
       "['https://www.wildberries.ru/catalog/0/search.aspx?search=черный+женская+майка',\n",
       " 'https://www.wildberries.ru/catalog/0/search.aspx?search=розовый+женская+майка',\n",
       " 'https://www.wildberries.ru/catalog/0/search.aspx?search=черный+женские+брюки',\n",
       " 'https://www.wildberries.ru/catalog/0/search.aspx?search=черный+женские+штаны',\n",
       " 'https://www.wildberries.ru/catalog/0/search.aspx?search=черный+женские+джинсы',\n",
       " 'https://www.wildberries.ru/catalog/0/search.aspx?search=черный+женские+брюки+спортивные',\n",
       " 'https://www.wildberries.ru/catalog/0/search.aspx?search=черный+женские+лосины',\n",
       " 'https://www.wildberries.ru/catalog/0/search.aspx?search=розовый+женские+брюки',\n",
       " 'https://www.wildberries.ru/catalog/0/search.aspx?search=розовый+женские+штаны',\n",
       " 'https://www.wildberries.ru/catalog/0/search.aspx?search=розовый+женские+джинсы',\n",
       " 'https://www.wildberries.ru/catalog/0/search.aspx?search=розовый+женские+брюки+спортивные',\n",
       " 'https://www.wildberries.ru/catalog/0/search.aspx?search=розовый+женские+лосины']"
      ]
     },
     "execution_count": 172,
     "metadata": {},
     "output_type": "execute_result"
    }
   ],
   "source": [
    "links"
   ]
  },
  {
   "cell_type": "code",
   "execution_count": 220,
   "id": "63a651c3",
   "metadata": {},
   "outputs": [],
   "source": [
    "from bs4 import BeautifulSoup\n",
    "import requests\n",
    "import re\n",
    "from requests_html import HTMLSession\n",
    "\n",
    "import asyncio\n",
    "if asyncio.get_event_loop().is_running(): # Only patch if needed (i.e. running in Notebook, Spyder, etc)\n",
    "    import nest_asyncio\n",
    "    nest_asyncio.apply()\n",
    "    \n",
    "# function to extract html document from given url\n",
    "def getHTMLdocument(url):\n",
    "    \n",
    "    sessions = HTMLSession()\n",
    "      \n",
    "    # request for HTML document of given url\n",
    "    response = sessions.get(url)\n",
    "    response.html.render(sleep=3, keep_page=True)\n",
    "      \n",
    "    # response will be provided in JSON format\n",
    "    return response.text\n",
    "\n",
    "# # assign required credentials\n",
    "# # assign URL\n",
    "# url_to_scrape = \"https://www.wildberries.ru/catalog/0/search.aspx?search=черный+женские+брюки+спортивные\"\n",
    "  \n",
    "# # create document\n",
    "# html_document = getHTMLdocument(url_to_scrape)\n",
    "  \n",
    "# # create soap object\n",
    "# soup = BeautifulSoup(html_document, 'html.parser')\n",
    "\n",
    "# for link in soup.find_all('a', \n",
    "#                           attrs={'class':\"product-card__main j-card-link\", 'href': re.compile(\"^https://www.wildberries.ru/catalog/\")}):\n",
    "#     # display the actual urls\n",
    "#     print(link.get('href'))  "
   ]
  },
  {
   "cell_type": "code",
   "execution_count": 215,
   "id": "eaba423e",
   "metadata": {},
   "outputs": [],
   "source": [
    "# from bs4 import BeautifulSoup as bs\n",
    "# url_html = \"https://www.wildberries.ru/catalog/0/search.aspx?search=черный+женские+брюки\"\n",
    "# doc = getHTMLdocument(url_html)\n",
    "# soup = bs(doc, 'html.parser')\n",
    "# for i in soup.find_all('div', {'class': 'product-card__main j-card-link'}):\n",
    "#     links = i.find_all('a', href=True)\n",
    "#     for link in links:\n",
    "#         print(link['href'])"
   ]
  },
  {
   "cell_type": "code",
   "execution_count": 197,
   "id": "38d0481f",
   "metadata": {},
   "outputs": [],
   "source": [
    "for i in soup.find_all('div', {'class': 'product-card__main j-card-link'}):\n",
    "    links = i.find_all('a', href=True)\n",
    "    print(links)"
   ]
  },
  {
   "cell_type": "code",
   "execution_count": 222,
   "id": "5f64945d",
   "metadata": {},
   "outputs": [
    {
     "ename": "RuntimeError",
     "evalue": "Cannot use HTMLSession within an existing event loop. Use AsyncHTMLSession instead.",
     "output_type": "error",
     "traceback": [
      "\u001B[1;31m---------------------------------------------------------------------------\u001B[0m",
      "\u001B[1;31mRuntimeError\u001B[0m                              Traceback (most recent call last)",
      "\u001B[1;32m~\\Clothes Recognition\\Clothing-Detection\\Color_Detection.py\u001B[0m in \u001B[0;36m<module>\u001B[1;34m\u001B[0m\n\u001B[0;32m      4\u001B[0m     \u001B[0mnest_asyncio\u001B[0m\u001B[1;33m.\u001B[0m\u001B[0mapply\u001B[0m\u001B[1;33m(\u001B[0m\u001B[1;33m)\u001B[0m\u001B[1;33m\u001B[0m\u001B[1;33m\u001B[0m\u001B[0m\n\u001B[0;32m      5\u001B[0m \u001B[0murl_html\u001B[0m \u001B[1;33m=\u001B[0m \u001B[1;34m\"https://www.wildberries.ru/catalog/0/search.aspx?search=черный+женские+брюки\"\u001B[0m\u001B[1;33m\u001B[0m\u001B[1;33m\u001B[0m\u001B[0m\n\u001B[1;32m----> 6\u001B[1;33m \u001B[0mdoc\u001B[0m \u001B[1;33m=\u001B[0m \u001B[0mgetHTMLdocument\u001B[0m\u001B[1;33m(\u001B[0m\u001B[0murl_html\u001B[0m\u001B[1;33m)\u001B[0m\u001B[1;33m\u001B[0m\u001B[1;33m\u001B[0m\u001B[0m\n\u001B[0m\u001B[0;32m      7\u001B[0m \u001B[1;31m# soup = bs(doc, 'html.parser')\u001B[0m\u001B[1;33m\u001B[0m\u001B[1;33m\u001B[0m\u001B[0m\n\u001B[0;32m      8\u001B[0m \u001B[1;31m# soup.find_all('div', class_='product-card__wrapper')\u001B[0m\u001B[1;33m\u001B[0m\u001B[1;33m\u001B[0m\u001B[0m\n",
      "\u001B[1;32m~\\Clothes Recognition\\Clothing-Detection\\Color_Detection.py\u001B[0m in \u001B[0;36mgetHTMLdocument\u001B[1;34m(url)\u001B[0m\n\u001B[0;32m     16\u001B[0m     \u001B[1;31m# request for HTML document of given url\u001B[0m\u001B[1;33m\u001B[0m\u001B[1;33m\u001B[0m\u001B[0m\n\u001B[0;32m     17\u001B[0m     \u001B[0mresponse\u001B[0m \u001B[1;33m=\u001B[0m \u001B[0msessions\u001B[0m\u001B[1;33m.\u001B[0m\u001B[0mget\u001B[0m\u001B[1;33m(\u001B[0m\u001B[0murl\u001B[0m\u001B[1;33m)\u001B[0m\u001B[1;33m\u001B[0m\u001B[1;33m\u001B[0m\u001B[0m\n\u001B[1;32m---> 18\u001B[1;33m     \u001B[0mresponse\u001B[0m\u001B[1;33m.\u001B[0m\u001B[0mhtml\u001B[0m\u001B[1;33m.\u001B[0m\u001B[0mrender\u001B[0m\u001B[1;33m(\u001B[0m\u001B[0msleep\u001B[0m\u001B[1;33m=\u001B[0m\u001B[1;36m3\u001B[0m\u001B[1;33m,\u001B[0m \u001B[0mkeep_page\u001B[0m\u001B[1;33m=\u001B[0m\u001B[1;32mTrue\u001B[0m\u001B[1;33m)\u001B[0m\u001B[1;33m\u001B[0m\u001B[1;33m\u001B[0m\u001B[0m\n\u001B[0m\u001B[0;32m     19\u001B[0m \u001B[1;33m\u001B[0m\u001B[0m\n\u001B[0;32m     20\u001B[0m     \u001B[1;31m# response will be provided in JSON format\u001B[0m\u001B[1;33m\u001B[0m\u001B[1;33m\u001B[0m\u001B[0m\n",
      "\u001B[1;32m~\\anaconda3\\lib\\site-packages\\requests_html.py\u001B[0m in \u001B[0;36mrender\u001B[1;34m(self, retries, script, wait, scrolldown, sleep, reload, timeout, keep_page)\u001B[0m\n\u001B[0;32m    584\u001B[0m         \"\"\"\n\u001B[0;32m    585\u001B[0m \u001B[1;33m\u001B[0m\u001B[0m\n\u001B[1;32m--> 586\u001B[1;33m         \u001B[0mself\u001B[0m\u001B[1;33m.\u001B[0m\u001B[0mbrowser\u001B[0m \u001B[1;33m=\u001B[0m \u001B[0mself\u001B[0m\u001B[1;33m.\u001B[0m\u001B[0msession\u001B[0m\u001B[1;33m.\u001B[0m\u001B[0mbrowser\u001B[0m  \u001B[1;31m# Automatically create a event loop and browser\u001B[0m\u001B[1;33m\u001B[0m\u001B[1;33m\u001B[0m\u001B[0m\n\u001B[0m\u001B[0;32m    587\u001B[0m         \u001B[0mcontent\u001B[0m \u001B[1;33m=\u001B[0m \u001B[1;32mNone\u001B[0m\u001B[1;33m\u001B[0m\u001B[1;33m\u001B[0m\u001B[0m\n\u001B[0;32m    588\u001B[0m \u001B[1;33m\u001B[0m\u001B[0m\n",
      "\u001B[1;32m~\\anaconda3\\lib\\site-packages\\requests_html.py\u001B[0m in \u001B[0;36mbrowser\u001B[1;34m(self)\u001B[0m\n\u001B[0;32m    727\u001B[0m             \u001B[0mself\u001B[0m\u001B[1;33m.\u001B[0m\u001B[0mloop\u001B[0m \u001B[1;33m=\u001B[0m \u001B[0masyncio\u001B[0m\u001B[1;33m.\u001B[0m\u001B[0mget_event_loop\u001B[0m\u001B[1;33m(\u001B[0m\u001B[1;33m)\u001B[0m\u001B[1;33m\u001B[0m\u001B[1;33m\u001B[0m\u001B[0m\n\u001B[0;32m    728\u001B[0m             \u001B[1;32mif\u001B[0m \u001B[0mself\u001B[0m\u001B[1;33m.\u001B[0m\u001B[0mloop\u001B[0m\u001B[1;33m.\u001B[0m\u001B[0mis_running\u001B[0m\u001B[1;33m(\u001B[0m\u001B[1;33m)\u001B[0m\u001B[1;33m:\u001B[0m\u001B[1;33m\u001B[0m\u001B[1;33m\u001B[0m\u001B[0m\n\u001B[1;32m--> 729\u001B[1;33m                 \u001B[1;32mraise\u001B[0m \u001B[0mRuntimeError\u001B[0m\u001B[1;33m(\u001B[0m\u001B[1;34m\"Cannot use HTMLSession within an existing event loop. Use AsyncHTMLSession instead.\"\u001B[0m\u001B[1;33m)\u001B[0m\u001B[1;33m\u001B[0m\u001B[1;33m\u001B[0m\u001B[0m\n\u001B[0m\u001B[0;32m    730\u001B[0m             \u001B[0mself\u001B[0m\u001B[1;33m.\u001B[0m\u001B[0m_browser\u001B[0m \u001B[1;33m=\u001B[0m \u001B[0mself\u001B[0m\u001B[1;33m.\u001B[0m\u001B[0mloop\u001B[0m\u001B[1;33m.\u001B[0m\u001B[0mrun_until_complete\u001B[0m\u001B[1;33m(\u001B[0m\u001B[0msuper\u001B[0m\u001B[1;33m(\u001B[0m\u001B[1;33m)\u001B[0m\u001B[1;33m.\u001B[0m\u001B[0mbrowser\u001B[0m\u001B[1;33m)\u001B[0m\u001B[1;33m\u001B[0m\u001B[1;33m\u001B[0m\u001B[0m\n\u001B[0;32m    731\u001B[0m         \u001B[1;32mreturn\u001B[0m \u001B[0mself\u001B[0m\u001B[1;33m.\u001B[0m\u001B[0m_browser\u001B[0m\u001B[1;33m\u001B[0m\u001B[1;33m\u001B[0m\u001B[0m\n",
      "\u001B[1;31mRuntimeError\u001B[0m: Cannot use HTMLSession within an existing event loop. Use AsyncHTMLSession instead."
     ]
    }
   ],
   "source": [
    "\n",
    "url_html = \"https://www.wildberries.ru/catalog/0/search.aspx?search=черный+женские+брюки\"\n",
    "doc = getHTMLdocument(url_html)\n",
    "# soup = bs(doc, 'html.parser')\n",
    "# soup.find_all('div', class_='product-card__wrapper')\n",
    "# soup"
   ]
  },
  {
   "cell_type": "code",
   "execution_count": null,
   "id": "bcd0d4a2",
   "metadata": {},
   "outputs": [],
   "source": [
    "#на всякий случай\n",
    "# from bs4 import BeautifulSoup as bs\n",
    "# import requests\n",
    "# import re\n",
    "# from requests_html import HTMLSession\n",
    "#\n",
    "#\n",
    "# # function to extract html document from given url\n",
    "# def getHTMLdocument(url):\n",
    "#     sessions = HTMLSession()\n",
    "#\n",
    "#     # request for HTML document of given url\n",
    "#     response = sessions.get(url)\n",
    "#     response.html.render(sleep=3, keep_page=True)\n",
    "#\n",
    "#     # response will be provided in JSON format\n",
    "#     return response.text\n",
    "#\n",
    "#\n",
    "# url_html = \"https://www.wildberries.ru/catalog/0/search.aspx?search=черный+женские+брюки\"\n",
    "# doc = getHTMLdocument(url_html)\n",
    "#\n",
    "# soup = bs(doc, 'html.parser')\n",
    "# soup\n",
    "\n",
    "\n",
    "from bs4 import BeautifulSoup\n",
    "from requests_html import HTMLSession\n",
    "\n",
    "url = \"https://www.wildberries.ru/catalog/0/search.aspx?search=черный+женские+брюки\"\n",
    "\n",
    "session = HTMLSession()\n",
    "\n",
    "response = session.get(url)\n",
    "response.html.render(sleep=3, keep_page=True, scrolldown=2)\n",
    "\n",
    "soup = BeautifulSoup(response.html.raw_html, \"html.parser\")\n",
    "\n",
    "links_list = []\n",
    "for link in soup.find_all('div', {'class': 'product-card__wrapper'}):\n",
    "    links = link.find('a', href = True)\n",
    "    links_list.append(links['href'])\n",
    "    # print(links['href'])\n",
    "\n",
    "# for link in soup.findAll('a', {'class':'product-card__wrapper'}):\n",
    "#     try:\n",
    "#         print(link['href'])\n",
    "#     except KeyError:\n",
    "#         pass\n",
    "print(links_list)"
   ]
  }
 ],
 "metadata": {
  "kernelspec": {
   "display_name": "Python 3 (ipykernel)",
   "language": "python",
   "name": "python3"
  },
  "language_info": {
   "codemirror_mode": {
    "name": "ipython",
    "version": 3
   },
   "file_extension": ".py",
   "mimetype": "text/x-python",
   "name": "python",
   "nbconvert_exporter": "python",
   "pygments_lexer": "ipython3",
   "version": "3.9.7"
  }
 },
 "nbformat": 4,
 "nbformat_minor": 5
}